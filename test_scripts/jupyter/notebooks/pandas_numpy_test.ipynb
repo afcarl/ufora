{
 "cells": [
  {
   "cell_type": "code",
   "execution_count": null,
   "metadata": {
    "collapsed": true
   },
   "outputs": [],
   "source": [
    "import numpy\n",
    "import numpy.testing\n",
    "import pandas as pd\n",
    "import pyfora"
   ]
  },
  {
   "cell_type": "code",
   "execution_count": null,
   "metadata": {
    "collapsed": false
   },
   "outputs": [],
   "source": [
    "df = pd.DataFrame({'A': [1,2,3], 'B': [4,5,6]})\n",
    "s = [7, 8]\n",
    "e = pyfora.connect(\"http://localhost:30000\")"
   ]
  },
  {
   "cell_type": "code",
   "execution_count": null,
   "metadata": {
    "collapsed": false
   },
   "outputs": [],
   "source": [
    "with e.remotely.downloadAll():\n",
    "    res = df.dot(s)\n",
    "numpy.testing.assert_allclose(res, df.dot(s))"
   ]
  },
  {
   "cell_type": "code",
   "execution_count": null,
   "metadata": {
    "collapsed": false
   },
   "outputs": [],
   "source": [
    "x1 = numpy.array([1.0, 2, 3, 4, 5, 6])\n",
    "x2 = numpy.array([[67.0, 63, 87],\n",
    "                  [77, 69, 59],\n",
    "                  [85, 87, 99],\n",
    "                  [79, 72, 71],\n",
    "                  [63, 89, 93],\n",
    "                  [68, 92, 78]])\n",
    "with e.remotely.downloadAll():\n",
    "    res = x1.dot(x2)\n",
    "numpy.testing.assert_equal(res, x1.dot(x2))"
   ]
  }
 ],
 "metadata": {
  "kernelspec": {
   "display_name": "Python 2",
   "language": "python",
   "name": "python2"
  },
  "language_info": {
   "codemirror_mode": {
    "name": "ipython",
    "version": 2
   },
   "file_extension": ".py",
   "mimetype": "text/x-python",
   "name": "python",
   "nbconvert_exporter": "python",
   "pygments_lexer": "ipython2",
   "version": "2.7.6"
  }
 },
 "nbformat": 4,
 "nbformat_minor": 0
}
